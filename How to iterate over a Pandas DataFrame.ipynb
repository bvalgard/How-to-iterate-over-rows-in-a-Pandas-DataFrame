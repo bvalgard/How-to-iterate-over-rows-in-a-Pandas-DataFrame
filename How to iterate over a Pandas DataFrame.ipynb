{
 "cells": [
  {
   "cell_type": "markdown",
   "metadata": {},
   "source": [
    "# How to loop / iterate over rows in pandas DataFrame\n",
    "Check out the YouTube video that explains this topic: https://youtu.be/CG3EV7UBELA"
   ]
  },
  {
   "cell_type": "code",
   "execution_count": 1,
   "metadata": {},
   "outputs": [],
   "source": [
    "import pandas as pd\n",
    "import numpy as np"
   ]
  },
  {
   "cell_type": "markdown",
   "metadata": {},
   "source": [
    "Create a dataset with 10,000 rows of random values between 0 and 1"
   ]
  },
  {
   "cell_type": "code",
   "execution_count": 2,
   "metadata": {},
   "outputs": [],
   "source": [
    "df = pd.DataFrame(np.random.rand(10000,5), columns=('A','B','C','D','E'))"
   ]
  },
  {
   "cell_type": "code",
   "execution_count": 3,
   "metadata": {},
   "outputs": [
    {
     "data": {
      "text/html": [
       "<div>\n",
       "<style scoped>\n",
       "    .dataframe tbody tr th:only-of-type {\n",
       "        vertical-align: middle;\n",
       "    }\n",
       "\n",
       "    .dataframe tbody tr th {\n",
       "        vertical-align: top;\n",
       "    }\n",
       "\n",
       "    .dataframe thead th {\n",
       "        text-align: right;\n",
       "    }\n",
       "</style>\n",
       "<table border=\"1\" class=\"dataframe\">\n",
       "  <thead>\n",
       "    <tr style=\"text-align: right;\">\n",
       "      <th></th>\n",
       "      <th>A</th>\n",
       "      <th>B</th>\n",
       "      <th>C</th>\n",
       "      <th>D</th>\n",
       "      <th>E</th>\n",
       "    </tr>\n",
       "  </thead>\n",
       "  <tbody>\n",
       "    <tr>\n",
       "      <th>count</th>\n",
       "      <td>10000.000000</td>\n",
       "      <td>10000.000000</td>\n",
       "      <td>10000.000000</td>\n",
       "      <td>10000.000000</td>\n",
       "      <td>10000.000000</td>\n",
       "    </tr>\n",
       "    <tr>\n",
       "      <th>mean</th>\n",
       "      <td>0.502373</td>\n",
       "      <td>0.499937</td>\n",
       "      <td>0.502154</td>\n",
       "      <td>0.500017</td>\n",
       "      <td>0.503578</td>\n",
       "    </tr>\n",
       "    <tr>\n",
       "      <th>std</th>\n",
       "      <td>0.290702</td>\n",
       "      <td>0.289758</td>\n",
       "      <td>0.288977</td>\n",
       "      <td>0.287267</td>\n",
       "      <td>0.291005</td>\n",
       "    </tr>\n",
       "    <tr>\n",
       "      <th>min</th>\n",
       "      <td>0.000112</td>\n",
       "      <td>0.000046</td>\n",
       "      <td>0.000159</td>\n",
       "      <td>0.000314</td>\n",
       "      <td>0.000073</td>\n",
       "    </tr>\n",
       "    <tr>\n",
       "      <th>25%</th>\n",
       "      <td>0.249352</td>\n",
       "      <td>0.246840</td>\n",
       "      <td>0.250396</td>\n",
       "      <td>0.255432</td>\n",
       "      <td>0.252059</td>\n",
       "    </tr>\n",
       "    <tr>\n",
       "      <th>50%</th>\n",
       "      <td>0.507640</td>\n",
       "      <td>0.498095</td>\n",
       "      <td>0.503689</td>\n",
       "      <td>0.499617</td>\n",
       "      <td>0.507818</td>\n",
       "    </tr>\n",
       "    <tr>\n",
       "      <th>75%</th>\n",
       "      <td>0.754542</td>\n",
       "      <td>0.752152</td>\n",
       "      <td>0.748935</td>\n",
       "      <td>0.746114</td>\n",
       "      <td>0.757160</td>\n",
       "    </tr>\n",
       "    <tr>\n",
       "      <th>max</th>\n",
       "      <td>0.999884</td>\n",
       "      <td>0.999916</td>\n",
       "      <td>0.999846</td>\n",
       "      <td>0.999881</td>\n",
       "      <td>0.999880</td>\n",
       "    </tr>\n",
       "  </tbody>\n",
       "</table>\n",
       "</div>"
      ],
      "text/plain": [
       "                  A             B             C             D             E\n",
       "count  10000.000000  10000.000000  10000.000000  10000.000000  10000.000000\n",
       "mean       0.502373      0.499937      0.502154      0.500017      0.503578\n",
       "std        0.290702      0.289758      0.288977      0.287267      0.291005\n",
       "min        0.000112      0.000046      0.000159      0.000314      0.000073\n",
       "25%        0.249352      0.246840      0.250396      0.255432      0.252059\n",
       "50%        0.507640      0.498095      0.503689      0.499617      0.507818\n",
       "75%        0.754542      0.752152      0.748935      0.746114      0.757160\n",
       "max        0.999884      0.999916      0.999846      0.999881      0.999880"
      ]
     },
     "execution_count": 3,
     "metadata": {},
     "output_type": "execute_result"
    }
   ],
   "source": [
    "df.describe()"
   ]
  },
  {
   "cell_type": "markdown",
   "metadata": {},
   "source": [
    "## iterrow"
   ]
  },
  {
   "cell_type": "markdown",
   "metadata": {},
   "source": [
    "The iterrow method is probably the most intuiative method for iterating over a DataFrame (df). It will return the index and the row of the df. <br>\n",
    "Below we create a function that loops over each row of the df and replaces values that are less than 0.5 as 0 and everything else as 1. <br>\n",
    "i = the index position <br>\n",
    "row = the row data contained at current index location <br>\n",
    "You can also try .itertuples() which is slightly faster than iterrow. I'm not going to show it in this project. "
   ]
  },
  {
   "cell_type": "markdown",
   "metadata": {},
   "source": [
    "First let's see exactly what i and row returns. Let's look at the first 5 iterations. "
   ]
  },
  {
   "cell_type": "code",
   "execution_count": 4,
   "metadata": {},
   "outputs": [
    {
     "name": "stdout",
     "output_type": "stream",
     "text": [
      "i = 0\n",
      "\n",
      "Returned Row:\n",
      "A    0.062925\n",
      "B    0.920028\n",
      "C    0.643651\n",
      "D    0.398157\n",
      "E    0.834260\n",
      "Name: 0, dtype: float64\n",
      "\n",
      "Column B: 0.9200280703369048\n",
      "<----------------------------------->\n",
      "\n",
      "i = 1\n",
      "\n",
      "Returned Row:\n",
      "A    0.743461\n",
      "B    0.014185\n",
      "C    0.245906\n",
      "D    0.776942\n",
      "E    0.074966\n",
      "Name: 1, dtype: float64\n",
      "\n",
      "Column B: 0.014184723784399833\n",
      "<----------------------------------->\n",
      "\n",
      "i = 2\n",
      "\n",
      "Returned Row:\n",
      "A    0.880759\n",
      "B    0.079689\n",
      "C    0.051036\n",
      "D    0.105073\n",
      "E    0.756006\n",
      "Name: 2, dtype: float64\n",
      "\n",
      "Column B: 0.07968939796511643\n",
      "<----------------------------------->\n",
      "\n"
     ]
    }
   ],
   "source": [
    "for i, row in df.iterrows():\n",
    "    while i < 3:\n",
    "        print(f'i = {i}')\n",
    "        print('')\n",
    "        print('Returned Row:')\n",
    "        print(row)\n",
    "        print('')\n",
    "        print(f\"Column B: {row['B']}\")\n",
    "        print(\"<----------------------------------->\")\n",
    "        print('')\n",
    "        break       "
   ]
  },
  {
   "cell_type": "markdown",
   "metadata": {},
   "source": [
    "If we compare the first three rows returned with df.iterrows to the first three rows from df.head(3) we see they are the same :)"
   ]
  },
  {
   "cell_type": "code",
   "execution_count": 5,
   "metadata": {},
   "outputs": [
    {
     "data": {
      "text/html": [
       "<div>\n",
       "<style scoped>\n",
       "    .dataframe tbody tr th:only-of-type {\n",
       "        vertical-align: middle;\n",
       "    }\n",
       "\n",
       "    .dataframe tbody tr th {\n",
       "        vertical-align: top;\n",
       "    }\n",
       "\n",
       "    .dataframe thead th {\n",
       "        text-align: right;\n",
       "    }\n",
       "</style>\n",
       "<table border=\"1\" class=\"dataframe\">\n",
       "  <thead>\n",
       "    <tr style=\"text-align: right;\">\n",
       "      <th></th>\n",
       "      <th>A</th>\n",
       "      <th>B</th>\n",
       "      <th>C</th>\n",
       "      <th>D</th>\n",
       "      <th>E</th>\n",
       "    </tr>\n",
       "  </thead>\n",
       "  <tbody>\n",
       "    <tr>\n",
       "      <th>0</th>\n",
       "      <td>0.062925</td>\n",
       "      <td>0.920028</td>\n",
       "      <td>0.643651</td>\n",
       "      <td>0.398157</td>\n",
       "      <td>0.834260</td>\n",
       "    </tr>\n",
       "    <tr>\n",
       "      <th>1</th>\n",
       "      <td>0.743461</td>\n",
       "      <td>0.014185</td>\n",
       "      <td>0.245906</td>\n",
       "      <td>0.776942</td>\n",
       "      <td>0.074966</td>\n",
       "    </tr>\n",
       "    <tr>\n",
       "      <th>2</th>\n",
       "      <td>0.880759</td>\n",
       "      <td>0.079689</td>\n",
       "      <td>0.051036</td>\n",
       "      <td>0.105073</td>\n",
       "      <td>0.756006</td>\n",
       "    </tr>\n",
       "  </tbody>\n",
       "</table>\n",
       "</div>"
      ],
      "text/plain": [
       "          A         B         C         D         E\n",
       "0  0.062925  0.920028  0.643651  0.398157  0.834260\n",
       "1  0.743461  0.014185  0.245906  0.776942  0.074966\n",
       "2  0.880759  0.079689  0.051036  0.105073  0.756006"
      ]
     },
     "execution_count": 5,
     "metadata": {},
     "output_type": "execute_result"
    }
   ],
   "source": [
    "df.head(3)"
   ]
  },
  {
   "cell_type": "code",
   "execution_count": 6,
   "metadata": {},
   "outputs": [],
   "source": [
    "def iterrow_example(df, col):\n",
    "    for i, row in df.iterrows():\n",
    "        val = row[col]\n",
    "        if val < .5:\n",
    "            df.at[i,col] = 0     \n",
    "        else:\n",
    "            df.at[i,col] = 1    "
   ]
  },
  {
   "cell_type": "markdown",
   "metadata": {},
   "source": [
    "Here we use the magic method timeit to let us know how long it takes to execute the line of code <br>\n",
    "We allso call the iterrow_example function <br>\n",
    "In this example I got 553 ms ± 8.24 ms (If you execute this code it may be different for you, but the patterns bellow should hold)"
   ]
  },
  {
   "cell_type": "code",
   "execution_count": 7,
   "metadata": {},
   "outputs": [
    {
     "name": "stdout",
     "output_type": "stream",
     "text": [
      "553 ms ± 8.24 ms per loop (mean ± std. dev. of 7 runs, 1 loop each)\n"
     ]
    }
   ],
   "source": [
    "%timeit iterrow_example(df, 'A')"
   ]
  },
  {
   "cell_type": "markdown",
   "metadata": {},
   "source": [
    "## pd.loc[] / pd.iloc[]"
   ]
  },
  {
   "cell_type": "markdown",
   "metadata": {},
   "source": [
    "Another way we can loop over the rows of a df is to use pd.loc or pd.iloc. <br>\n",
    "We create a function below to iterate over the df and then we call it. "
   ]
  },
  {
   "cell_type": "code",
   "execution_count": 8,
   "metadata": {},
   "outputs": [],
   "source": [
    "def iloc_test(df, col):\n",
    "    for i in df.index:\n",
    "        val = df[col].iloc[i]\n",
    "        if val < .5:\n",
    "            df.at[i,col] = 0     \n",
    "        else:\n",
    "            df.at[i,col] = 1    "
   ]
  },
  {
   "cell_type": "markdown",
   "metadata": {},
   "source": [
    "In this example I got a time of 178 ms ± 1.65 ms. 3 times faster. Nice :), but wait... we can do better. "
   ]
  },
  {
   "cell_type": "code",
   "execution_count": 9,
   "metadata": {},
   "outputs": [
    {
     "name": "stdout",
     "output_type": "stream",
     "text": [
      "178 ms ± 1.65 ms per loop (mean ± std. dev. of 7 runs, 10 loops each)\n"
     ]
    }
   ],
   "source": [
    "%timeit iloc_test(df, 'B')"
   ]
  },
  {
   "cell_type": "markdown",
   "metadata": {},
   "source": [
    "## apply with lambda"
   ]
  },
  {
   "cell_type": "markdown",
   "metadata": {},
   "source": [
    "Here we use the .apply method with a lambda function to get even better performance. <br>\n",
    "In this example I got 3.51 ms ± 216 µs. <br>\n",
    "That's over 50 times faster than our previous best with pd.iloc! <br>\n",
    "LET'S GO FASTER!!!"
   ]
  },
  {
   "cell_type": "code",
   "execution_count": 10,
   "metadata": {},
   "outputs": [
    {
     "name": "stdout",
     "output_type": "stream",
     "text": [
      "3.51 ms ± 216 µs per loop (mean ± std. dev. of 7 runs, 100 loops each)\n"
     ]
    }
   ],
   "source": [
    "%timeit df['C'] = df['C'].apply(lambda x : 0 if x < .5 else 1)"
   ]
  },
  {
   "cell_type": "markdown",
   "metadata": {},
   "source": [
    "## np.where()"
   ]
  },
  {
   "cell_type": "markdown",
   "metadata": {},
   "source": [
    "https://www.youtube.com/watch?v=nxWginnBklU\n",
    "\n",
    "np.where(\n",
    "    conditional statment -> bool array, \n",
    "    series/array/function()/scalar if true,\n",
    "    series/array/function()/scalar if False\n",
    ")"
   ]
  },
  {
   "cell_type": "markdown",
   "metadata": {},
   "source": [
    "Here we use the np.where method where we pass in our entire column of data with the condition we are testing for. Then we pass in the value we want if the condition is true and the value if the condition is false. \n",
    "\n",
    "223 µs ± 13.4 µs! 16 times faster than our previous best with .apply() <br>\n",
    "Can we go any faster? Yup!"
   ]
  },
  {
   "cell_type": "code",
   "execution_count": 11,
   "metadata": {},
   "outputs": [
    {
     "name": "stdout",
     "output_type": "stream",
     "text": [
      "223 µs ± 13.4 µs per loop (mean ± std. dev. of 7 runs, 1000 loops each)\n"
     ]
    }
   ],
   "source": [
    "%timeit df['D'] = np.where(df['D'] < .5, 0, 1)"
   ]
  },
  {
   "cell_type": "markdown",
   "metadata": {},
   "source": [
    "When can squeeze out a little more performance by converting our pandas series into a numpy array by using .values\n",
    "\n",
    "93.2 µs ± 527 ns <br>\n",
    "Over 2 times speed up from our previous best and almost 6,000 times faster than df.iterrows. <br>\n",
    "These numbers are relative though. With a smaller amount of data the differences wouldn't be as big, but with larger datasets the differences would be even more exaggerated. "
   ]
  },
  {
   "cell_type": "code",
   "execution_count": 12,
   "metadata": {},
   "outputs": [
    {
     "name": "stdout",
     "output_type": "stream",
     "text": [
      "93.2 µs ± 527 ns per loop (mean ± std. dev. of 7 runs, 10000 loops each)\n"
     ]
    }
   ],
   "source": [
    "%timeit df['E'] = np.where(df['E'].values < .5, 0, 1)"
   ]
  },
  {
   "cell_type": "markdown",
   "metadata": {},
   "source": [
    "If you have elif conditions thne use numpy.select instead. <br>\n",
    "conditions can be chained ((df[col ==no]) & (df['Providers']==0)) <br>\n",
    "\n",
    "```python\n",
    "conditions = [] # List all the conditions \n",
    "choices = [] # List all of the options\n",
    "df[col] = np.select(conditions, choices, default='NA') \n",
    "```\n",
    "\n",
    " "
   ]
  },
  {
   "cell_type": "markdown",
   "metadata": {},
   "source": [
    "## References"
   ]
  },
  {
   "cell_type": "markdown",
   "metadata": {},
   "source": [
    "**YouTube Videos (Pycon Talks)** <br>\n",
    "1000x faster data manipulation: vectorizing with Pandas and Numpy <br>\n",
    "https://www.youtube.com/watch?v=nxWginnBklU\n",
    "\n",
    "Sofia Heisler No more sad pandas optimizing pandas code for speed and efficiency PyCon 2017 <br>\n",
    "https://www.youtube.com/watch?v=HN5d490_KKk&feature=youtu.be <br>\n",
    "<br>\n",
    "<br>\n",
    "**Articles** <br>\n",
    "Optimum approach for iterating over a DataFrame <br>\n",
    "https://medium.com/@rtjeannier/pandas-101-cont-9d061cb73bfc\n",
    "\n",
    "Crude looping in Pandas, or That Thing You Should Never Ever Do <br>\n",
    "https://engineering.upside.com/a-beginners-guide-to-optimizing-pandas-code-for-speed-c09ef2c6a4d6 \n"
   ]
  }
 ],
 "metadata": {
  "kernelspec": {
   "display_name": "Python 3",
   "language": "python",
   "name": "python3"
  },
  "language_info": {
   "codemirror_mode": {
    "name": "ipython",
    "version": 3
   },
   "file_extension": ".py",
   "mimetype": "text/x-python",
   "name": "python",
   "nbconvert_exporter": "python",
   "pygments_lexer": "ipython3",
   "version": "3.8.2"
  }
 },
 "nbformat": 4,
 "nbformat_minor": 4
}
